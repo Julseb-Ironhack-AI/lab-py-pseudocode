{
 "cells": [
  {
   "cell_type": "markdown",
   "metadata": {},
   "source": [
    "# LAB | Pseudocode Using Python\n",
    "\n",
    "## Overview\n",
    "\n",
    "This exercise will help you practice writing pseudocode and translating it into Python code. Pseudocode is a way to describe algorithms in a human-readable format, which can then be implemented in programming languages.\n",
    "\n"
   ]
  },
  {
   "cell_type": "markdown",
   "metadata": {},
   "source": [
    "### Exercise 1: Multiply Two Numbers\n",
    "\n",
    "Write a pseudocode to read two numbers and multiply them together. Then, write the equivalent Python code."
   ]
  },
  {
   "cell_type": "markdown",
   "metadata": {},
   "source": [
    "<!-- Add your pseudocode here -->\n",
    "1. Read the first number\n",
    "2. Read the second number\n",
    "3. Multiply the two numbers\n",
    "4. Print the result"
   ]
  },
  {
   "cell_type": "code",
   "execution_count": 1,
   "metadata": {},
   "outputs": [
    {
     "name": "stdout",
     "output_type": "stream",
     "text": [
      "6\n"
     ]
    }
   ],
   "source": [
    "# Add your code solution here\n",
    "def multiply(a: int, b: int):\n",
    "    return a * b\n",
    "\n",
    "print(multiply(2, 3))"
   ]
  },
  {
   "cell_type": "markdown",
   "metadata": {},
   "source": [
    "### Exercise 2: Check Even or Odd\n",
    "\n",
    "Write pseudocode that checks if a number is even or odd and prints the result. Then, write the equivalent Python code."
   ]
  },
  {
   "cell_type": "markdown",
   "metadata": {},
   "source": [
    "<!-- Add your pseudocode here -->\n",
    "1. Read the number\n",
    "2. If the number is even, return \"even\"\n",
    "3. If the number is odd, return \"odd\""
   ]
  },
  {
   "cell_type": "code",
   "execution_count": 2,
   "metadata": {},
   "outputs": [
    {
     "name": "stdout",
     "output_type": "stream",
     "text": [
      "Even number (4): even\n",
      "Odd number (7): odd\n"
     ]
    }
   ],
   "source": [
    "# Add your code solution here\n",
    "def check_even_odd(number: int):\n",
    "    if number %2 == 0:\n",
    "        return \"even\"\n",
    "    else:\n",
    "        return \"odd\"\n",
    "\n",
    "print(f\"Even number (4): {check_even_odd(4)}\")\n",
    "print(f\"Odd number (7): {check_even_odd(7)}\")"
   ]
  },
  {
   "cell_type": "markdown",
   "metadata": {},
   "source": [
    "### Exercise 3: Sum of First N Natural Numbers\n",
    "\n",
    "Write pseudocode to calculate the sum of the first N natural numbers. Then, write the equivalent Python code."
   ]
  },
  {
   "cell_type": "markdown",
   "metadata": {},
   "source": [
    "<!-- Add your pseudocode here -->\n",
    "1. Read the value of N  \n",
    "2. Initialize sum to 0  \n",
    "3. For each number from 1 to N  \n",
    "  a. Add the number to sum\n",
    "4. Return the sum"
   ]
  },
  {
   "cell_type": "code",
   "execution_count": 3,
   "metadata": {},
   "outputs": [
    {
     "name": "stdout",
     "output_type": "stream",
     "text": [
      "861\n"
     ]
    }
   ],
   "source": [
    "# Add your code solution here\n",
    "def calc_sum_natural(n: int):\n",
    "    sum = 0\n",
    "    for i in range(1, n):\n",
    "        sum += i\n",
    "    return sum\n",
    "\n",
    "print(calc_sum_natural(42))"
   ]
  },
  {
   "cell_type": "markdown",
   "metadata": {},
   "source": [
    "### Exercise 4: Find Maximum of Three Numbers\n",
    "\n",
    "Write pseudocode that finds the maximum of three numbers entered by the user. Then, write the equivalent Python code."
   ]
  },
  {
   "cell_type": "markdown",
   "metadata": {},
   "source": [
    "<!-- Add your pseudocode here -->\n",
    "1. Read the first number  \n",
    "2. Read the second number  \n",
    "3. Read the third number  \n",
    "4. Compare the three numbers  \n",
    "5. Return the largest number"
   ]
  },
  {
   "cell_type": "code",
   "execution_count": 4,
   "metadata": {},
   "outputs": [
    {
     "name": "stdout",
     "output_type": "stream",
     "text": [
      "42\n"
     ]
    }
   ],
   "source": [
    "# Add your code solution here\n",
    "def find_max(n1: int, n2: int, n3: int):\n",
    "    arr = [n1, n2, n3]\n",
    "    arr.sort()\n",
    "    return arr[-1]\n",
    "\n",
    "print(find_max(42, 10, 33))"
   ]
  },
  {
   "cell_type": "markdown",
   "metadata": {},
   "source": [
    "### Exercise 5: Count Vowels in a String\n",
    "\n",
    "Write pseudocode to count the number of vowels in a given string and print the count. Then, write the equivalent Python code."
   ]
  },
  {
   "cell_type": "markdown",
   "metadata": {},
   "source": [
    "<!-- Add your pseudocode here -->\n",
    "1. Read the input string  \n",
    "2. Initialize a count to 0  \n",
    "3. For each character in the string  \n",
    "  a. If the character is a vowel (a, e, i, o, u, case-insensitive), increment the count  \n",
    "4. Print the count"
   ]
  },
  {
   "cell_type": "code",
   "execution_count": 5,
   "metadata": {},
   "outputs": [
    {
     "name": "stdout",
     "output_type": "stream",
     "text": [
      "10\n"
     ]
    }
   ],
   "source": [
    "# Add your code solution here\n",
    "def count_vowels(str: str):\n",
    "    vowels = [\"a\", \"e\", \"i\", \"o\", \"u\", \"y\"]\n",
    "    count = 0\n",
    "    for l in str.lower():\n",
    "        if l in vowels:\n",
    "            count += 1\n",
    "    return count\n",
    "\n",
    "print(count_vowels(\"The brOwn Fox jUMps ovEr the lazy dog\"))"
   ]
  },
  {
   "cell_type": "markdown",
   "metadata": {},
   "source": [
    "## Bonus Exercises\n",
    "\n",
    "### Bonus Exercise 6: Reverse a String\n",
    "\n",
    "Write pseudocode to reverse a given string and print it out."
   ]
  },
  {
   "cell_type": "markdown",
   "metadata": {},
   "source": [
    "<!-- Add your pseudocode here -->\n",
    "1. Read the input string  \n",
    "2. Initialize an empty string for the reversed result  \n",
    "3. For each character in the input string, starting from the end to the beginning  \n",
    "  a. Append the character to the reversed string  \n",
    "4. Print the reversed string"
   ]
  },
  {
   "cell_type": "code",
   "execution_count": 6,
   "metadata": {},
   "outputs": [
    {
     "name": "stdout",
     "output_type": "stream",
     "text": [
      "god yzal eht revo spmuj xof nworb ehT\n"
     ]
    }
   ],
   "source": [
    "# Add your code solution here\n",
    "def reverse_string(str: str):\n",
    "\treversed = \"\"\n",
    "\tfor l in str[::-1]:\n",
    "\t\treversed += l\n",
    "\treturn reversed\n",
    "\n",
    "print(reverse_string(\"The brown fox jumps over the lazy dog\"))"
   ]
  },
  {
   "cell_type": "markdown",
   "metadata": {},
   "source": [
    "### Bonus Exercise 7: Print Multiplication Table of a Number\n",
    "\n",
    "Write pseudocode to print the multiplication table of a given number up to 10."
   ]
  },
  {
   "cell_type": "markdown",
   "metadata": {},
   "source": [
    "<!-- Add your pseudocode here -->\n",
    "1. Read the input number  \n",
    "2. For each number from 1 to 10  \n",
    "  a. Multiply the input number by the current number  \n",
    "  b. Print the result"
   ]
  },
  {
   "cell_type": "code",
   "execution_count": 14,
   "metadata": {},
   "outputs": [
    {
     "name": "stdout",
     "output_type": "stream",
     "text": [
      "6 x 1 = 6\n",
      "6 x 2 = 12\n",
      "6 x 3 = 18\n",
      "6 x 4 = 24\n",
      "6 x 5 = 30\n",
      "6 x 6 = 36\n",
      "6 x 7 = 42\n",
      "6 x 8 = 48\n",
      "6 x 9 = 54\n",
      "6 x 10 = 60\n"
     ]
    }
   ],
   "source": [
    "# Add your code solution here\n",
    "def multiplication_table(n: int):\n",
    "\tfor i in range(1, 11):\n",
    "\t\tprint(f\"{n} x {i} = {n * i}\")\n",
    "\n",
    "multiplication_table(6)"
   ]
  },
  {
   "cell_type": "markdown",
   "metadata": {},
   "source": [
    "### Bonus Exercise 8: Count Words in a String\n",
    "\n",
    "Write pseudocode that counts the words in a given string and prints the result."
   ]
  },
  {
   "cell_type": "markdown",
   "metadata": {},
   "source": [
    "<!-- Add your pseudocode here -->\n",
    "1. Read the input string  \n",
    "2. Split the string into words  \n",
    "3. Count the number of words  \n",
    "4. Print the count"
   ]
  },
  {
   "cell_type": "code",
   "execution_count": 16,
   "metadata": {},
   "outputs": [
    {
     "name": "stdout",
     "output_type": "stream",
     "text": [
      "8\n"
     ]
    }
   ],
   "source": [
    "# Add your code solution here\n",
    "def count_words(str: str):\n",
    "    return len(str.split(\" \"))\n",
    "\n",
    "print(count_words(\"The brown fox jumps over the lazy dog\"))"
   ]
  },
  {
   "cell_type": "markdown",
   "metadata": {},
   "source": [
    "### Bonus Exercise 9: Find Factorial of a Number\n",
    "\n",
    "Write pseudocode that calculates the factorial of a given positive integer."
   ]
  },
  {
   "cell_type": "markdown",
   "metadata": {},
   "source": [
    "<!-- Add your pseudocode here -->\n",
    "1. Read the input number  \n",
    "2. Initialize result to 1  \n",
    "3. For each number from 1 to the input number  \n",
    "  a. Multiply result by the current number  \n",
    "4. Print the result"
   ]
  },
  {
   "cell_type": "code",
   "execution_count": 22,
   "metadata": {},
   "outputs": [
    {
     "name": "stdout",
     "output_type": "stream",
     "text": [
      "33452526613163807108170062053440751665152000000000\n"
     ]
    }
   ],
   "source": [
    "# Add your code solution here\n",
    "def find_factorial(n: int):\n",
    "    result = 1\n",
    "    for i in range(1, n):\n",
    "        result *= i\n",
    "    return result\n",
    "\n",
    "print(find_factorial(42))"
   ]
  },
  {
   "cell_type": "markdown",
   "metadata": {},
   "source": [
    "### Bonus Exercise 10: FizzBuzz Problem\n",
    "\n",
    "Write pseudocode for the FizzBuzz problem where you print numbers from 1 to N but replace multiples of three with \"Fizz\" and multiples of five with \"Buzz\"."
   ]
  },
  {
   "cell_type": "markdown",
   "metadata": {},
   "source": [
    "<!-- Add your pseudocode here -->\n",
    "1. Read the value of N  \n",
    "2. For each number from 1 to N  \n",
    "  a. If the number is divisible by 3 and 5, print \"FizzBuzz\"  \n",
    "  b. Else if the number is divisible by 3, print \"Fizz\"  \n",
    "  c. Else if the number is divisible by 5, print \"Buzz\"  \n",
    "  d. Else, print the number"
   ]
  },
  {
   "cell_type": "code",
   "execution_count": 28,
   "metadata": {},
   "outputs": [
    {
     "name": "stdout",
     "output_type": "stream",
     "text": [
      "FizzBuzz\n",
      "Fizz\n",
      "Buzz\n",
      "8\n"
     ]
    }
   ],
   "source": [
    "# Add your code solution here\n",
    "def fizz_buzz(n: int):\n",
    "    if n %3 == 0 and n %5 == 0:\n",
    "        print(\"FizzBuzz\")\n",
    "    elif n %3 == 0:\n",
    "        print(\"Fizz\")\n",
    "    elif n%5 == 0:\n",
    "        print(\"Buzz\")\n",
    "    else:\n",
    "        print(n)\n",
    "\n",
    "fizz_buzz(15)\n",
    "fizz_buzz(42)\n",
    "fizz_buzz(50)\n",
    "fizz_buzz(8)"
   ]
  }
 ],
 "metadata": {
  "kernelspec": {
   "display_name": "base",
   "language": "python",
   "name": "python3"
  },
  "language_info": {
   "codemirror_mode": {
    "name": "ipython",
    "version": 3
   },
   "file_extension": ".py",
   "mimetype": "text/x-python",
   "name": "python",
   "nbconvert_exporter": "python",
   "pygments_lexer": "ipython3",
   "version": "3.12.2"
  }
 },
 "nbformat": 4,
 "nbformat_minor": 2
}
